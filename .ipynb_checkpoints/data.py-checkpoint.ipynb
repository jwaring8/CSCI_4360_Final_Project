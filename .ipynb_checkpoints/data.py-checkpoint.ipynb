{
 "cells": [
  {
   "cell_type": "code",
   "execution_count": null,
   "metadata": {},
   "outputs": [],
   "source": [
    "import pandas as pd\n",
    "\n",
    "file_numbers = [1, 2, 3, 4, 5, 6, 7, 8, 9, 10]\n",
    "comments_df = pd.DataFrame()\n",
    "\n",
    "for f in file_numbers:\n",
    "    print(\"Reading JSON file \" + str(f))\n",
    "    path = 'data/SARC/comments_' + str(f) +'.json'\n",
    "    temp_df = pd.read_json(path, orient='index')\n",
    "    comments_df = comments_df.append(temp_df[['subreddit', 'text']])\n",
    "\n",
    "trainARR = pd.read_csv('data/SARC/train-balanced.csv').values\n",
    "testARR = pd.read_csv('data/SARC/test-balanced.csv').values\n",
    "\n",
    "for string in trainARR:\n",
    "    string[0] = string[0].split('|')\n",
    "for i in range(trainARR.shape[0]):\n",
    "    trainARR[i,0][1] = trainARR[i,0][1].split()\n",
    "    trainARR[i,0][2] = trainARR[i,0][2].split()\n",
    "    \n",
    "for string in testARR:\n",
    "    string[0] = string[0].split('|')\n",
    "for i in range(testARR.shape[0]):\n",
    "    testARR[i,0][1] = testARR[i,0][1].split()\n",
    "    testARR[i,0][2] = testARR[i,0][2].split()\n",
    "\n",
    "data = {'Quote Text': [],\n",
    "        'Response Text': [],\n",
    "        'Subreddit': [],\n",
    "        'Label': []}\n",
    "\n",
    "for i in range(trainARR.shape[0]):\n",
    "    for j in trainARR[i,0]:\n",
    "        train_data['Quote Text'].append(comments_df.loc[[trainARR[i,0][0]]]['text'][0])\n",
    "        train_data['Response Text'].append(comments_df.loc[[trainARR[i,0][1][j]]]['text'][0])\n",
    "        train_data['Subreddit'].append(comments_df.loc[[trainARR[i,0][1][j]]]['subreddit'][0])\n",
    "        train_data['Label'].append(trainARR[i,0][2][j])\n",
    "\n",
    "SARC_DF = pd.DataFrame(data, columns=['Quote Text', 'Response Text', 'Subreddit', 'Label'])\n",
    "SARC_DF.to_csv('data/SARC/SARC-train.csv', mode='a', index= False, encoding='utf-8', header = False)\n",
    "\n",
    "data = {'Quote Text': [],\n",
    "        'Response Text': [],\n",
    "        'Subreddit': [],\n",
    "        'Label': []}\n",
    "        \n",
    "for i in range(testARR.shape[0]):\n",
    "    for j in range(2):\n",
    "        test_data['Quote Text'].append(comments_df.loc[[testARR[i,0][0]]]['text'][0])\n",
    "        test_data['Response Text'].append(comments_df.loc[[testARR[i,0][1][j]]]['text'][0])\n",
    "        test_data['Subreddit'].append(comments_df.loc[[testARR[i,0][1][j]]]['subreddit'][0])\n",
    "        test_data['Label'].append(testARR[i,0][2][j])\n",
    "\n",
    "\n",
    "SARC_DF = pd.DataFrame(data, columns=['Quote Text', 'Response Text', 'Subreddit', 'Label'])\n",
    "SARC_DF.to_csv('data/SARC/SARC-test.csv', mode='a', index= False, encoding='utf-8', header = False)"
   ]
  },
  {
   "cell_type": "code",
   "execution_count": null,
   "metadata": {
    "collapsed": true
   },
   "outputs": [],
   "source": []
  }
 ],
 "metadata": {
  "kernelspec": {
   "display_name": "Python 3",
   "language": "python",
   "name": "python3"
  },
  "language_info": {
   "codemirror_mode": {
    "name": "ipython",
    "version": 3
   },
   "file_extension": ".py",
   "mimetype": "text/x-python",
   "name": "python",
   "nbconvert_exporter": "python",
   "pygments_lexer": "ipython3",
   "version": "3.6.3"
  }
 },
 "nbformat": 4,
 "nbformat_minor": 2
}
